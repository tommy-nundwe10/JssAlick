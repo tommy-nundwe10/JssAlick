{
  "nbformat": 4,
  "nbformat_minor": 0,
  "metadata": {
    "colab": {
      "provenance": [],
      "include_colab_link": true
    },
    "kernelspec": {
      "name": "python3",
      "display_name": "Python 3"
    },
    "language_info": {
      "name": "python"
    }
  },
  "cells": [
    {
      "cell_type": "markdown",
      "metadata": {
        "id": "view-in-github",
        "colab_type": "text"
      },
      "source": [
        "<a href=\"https://colab.research.google.com/github/tommy-nundwe10/JssAlick/blob/main/Group_22_data_mining_assign.ipynb\" target=\"_parent\"><img src=\"https://colab.research.google.com/assets/colab-badge.svg\" alt=\"Open In Colab\"/></a>"
      ]
    },
    {
      "cell_type": "markdown",
      "source": [
        "# Business Understanding\n",
        "\n",
        "## Problem Statement\n",
        "\n",
        "The reliability and usefulness of Zambian Wikipedia pages as a source of current information can be affected when the content becomes outdated  \n",
        "In many cases information that once was accurate is left unchanged for long periods of time and this makes it hard for readers to trust that what they are reading reflects the present situation  \n",
        "\n",
        "Without a clear and organized way to identify which pages are stale or contain old data it is difficult for contributors especially Zambian Wikipedians to know where their attention is most needed  \n",
        "This lack of direction means that updates can be random or uneven and some topics remain untouched while others are repeatedly edited  \n",
        "\n",
        "Over time this results in a reduced quality of content on and about Zambia making the platform less valuable as a resource for people who rely on it for research learning or keeping up with developments in the country."
      ],
      "metadata": {
        "id": "IerYbU6h9pBb"
      }
    },
    {
      "cell_type": "markdown",
      "source": [],
      "metadata": {
        "id": "e4yGztm21WUU"
      }
    },
    {
      "cell_type": "markdown",
      "source": [
        "\n",
        "## Business Objectives\n",
        "\n",
        "From a practical real world view success for this project means being able to identify what is old and what is still current  \n",
        "It is about detecting and flagging sections or whole Zambian Wikipedia pages like the Zambia page that hold stale facts  \n",
        "Clear signals help both readers and editors see where drift has happened and how serious it is  \n",
        "\n",
        "The next step is to make updates easier not harder  \n",
        "Contributors especially Zambian Wikipedians need a simple way to spot which pages or sections most need attention for factual recency  \n",
        "This supports the DataLab Research group as it explores strategies for improving contributions on and about Zambia  \n",
        "Having a clear queue of priority pages is more useful than relying on guesswork or scattered edits  \n",
        "\n",
        "The long term aim is to raise the overall currency of information on Wikipedia pages about Zambia  \n",
        "Fresher content increases trust and value whether the pages are used in schools in media or in everyday research  \n",
        "When updates become routine and guided the quality of the whole collection improves steadily  \n",
        "\n",
        "These objectives align with the CRISP DM phase of Business Understanding  \n",
        "Here the aim is to define broad and specific goals while also staying close to the needs of the community that relies on and contributes to this knowledge  \n"
      ],
      "metadata": {
        "id": "SR97zLySPLB0"
      }
    },
    {
      "cell_type": "code",
      "source": [],
      "metadata": {
        "id": "NvyPsVmQ-BRh"
      },
      "execution_count": null,
      "outputs": []
    },
    {
      "cell_type": "markdown",
      "source": [
        "Data Mining\n",
        "\n",
        "To meet the business obejectives, our task is to develop a classification model that can label the recency of content on Zambian Wikipedia pages. Each section would be tagged as 'Current','Moderately Outdated' or 'Severely Outdated', giving contributors and readers a quick sense of accuracy. This turns the challenge of stale information into a clear, structured task.\n",
        "\n",
        "Beyond classification, we also aim to analyse edit histories to reveal how quickly different topics become outdated. Some pages, like those on politics, may need frequent updates, while others such as geography remain stable for longer. Spotting these trends helps contributors anticipate where attention will be needed next.\n",
        "\n",
        "Finally, the project should provide ranking metrics that highlight high-priority pages. Instead of random edits, contributors can follow a clear queue that shows where updates will have the most impact. In this way, data mining goals directly support fresher, more reliable information on Wikipedia pages about Zambia"
      ],
      "metadata": {
        "id": "djuxIf2aEYBG"
      }
    }
  ]
}